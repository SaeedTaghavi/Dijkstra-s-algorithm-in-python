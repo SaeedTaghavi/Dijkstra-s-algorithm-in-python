{
 "cells": [
  {
   "cell_type": "markdown",
   "metadata": {},
   "source": [
    "## IMPORTING LIBRARIES"
   ]
  },
  {
   "cell_type": "code",
   "execution_count": 6,
   "metadata": {},
   "outputs": [],
   "source": [
    "import matplotlib.pyplot as plt"
   ]
  },
  {
   "cell_type": "code",
   "execution_count": 37,
   "metadata": {},
   "outputs": [],
   "source": [
    "#init graph\n",
    "\n",
    "#mutable and unordered\n",
    "def initial_graph() :\n",
    "        return {   \n",
    "            'A': {'B':1, 'C':4, 'D':2},\n",
    "            'B': {'A':9, 'E':5},\n",
    "            'C': {'A':4, 'F':15},\n",
    "            'D': {'A':10, 'F':7},\n",
    "            'E': {'B':3, 'J':7},\n",
    "            'F': {'C':11, 'D':14, 'K':3, 'G':9},\n",
    "            'G': {'F':12, 'I':4},\n",
    "            'H': {'J':13},\n",
    "            'I': {'G':6, 'J':7},\n",
    "            'J': {'H':2, 'I':4},\n",
    "            'K': {'F':6} \n",
    "        }\n",
    "   \n",
    "   "
   ]
  },
  {
   "cell_type": "code",
   "execution_count": 18,
   "metadata": {},
   "outputs": [],
   "source": [
    "#init variables\n",
    "graph = initial_graph()"
   ]
  },
  {
   "cell_type": "markdown",
   "metadata": {},
   "source": [
    "## VISUALIZE DATA"
   ]
  },
  {
   "cell_type": "markdown",
   "metadata": {},
   "source": [
    "<img src = \"https://i.postimg.cc/FKfFdfp2/grafo1.png\" align = \"center\">"
   ]
  },
  {
   "cell_type": "code",
   "execution_count": 33,
   "metadata": {},
   "outputs": [],
   "source": [
    "# Grapviz https://graphviz.org/"
   ]
  },
  {
   "cell_type": "code",
   "execution_count": 82,
   "metadata": {},
   "outputs": [],
   "source": [
    "def Shortest_path(graph,initial,final):\n",
    "    #shortest path\n",
    "    path = {}\n",
    "    #neighbouring nodes\n",
    "    adj_node = {}\n",
    "    #Queue for manipulation\n",
    "    \n",
    "    queue = []\n",
    "    #Check all nodes and initialize path with 0\n",
    "    for node in graph:\n",
    "        path[node] = float(\"inf\")\n",
    "        adj_node[node] = None\n",
    "        queue.append(node)\n",
    "\n",
    "    path[initial] = 0\n",
    "    #Check visited nodes and also to find the minimum distance between the nodes.\n",
    "    while queue:\n",
    "        key_min = queue[0]\n",
    "        min_val = path[key_min]\n",
    "        for n in range(1, len(queue)):\n",
    "            if path[queue[n]] < min_val:\n",
    "                key_min = queue[n]\n",
    "                min_val = path[key_min]\n",
    "        cur = key_min\n",
    "        queue.remove(cur)\n",
    "        #rint(cur)\n",
    "\n",
    "        for i in graph[cur]:\n",
    "            alternate = graph[cur][i] + path[cur]\n",
    "            if path[i] > alternate:\n",
    "                path[i] = alternate\n",
    "                \n",
    "                adj_node[i] = cur\n",
    "                \n",
    "\n",
    "    #Finally, print nodes that satisfies the condition\n",
    "    print('Shortest route between {} to {}'.format(initial,final))\n",
    "    print(final, end='<-')\n",
    "    while True:\n",
    "        final = adj_node[final]\n",
    "        if final is None:\n",
    "            \n",
    "            print(\"\")\n",
    "            break\n",
    "        print(final, end='<-')\n",
    "       \n",
    "     "
   ]
  },
  {
   "cell_type": "code",
   "execution_count": 83,
   "metadata": {},
   "outputs": [
    {
     "name": "stdout",
     "output_type": "stream",
     "text": [
      "Shortest route between A to H\n",
      "H<-J<-E<-B<-A<-\n"
     ]
    }
   ],
   "source": [
    "Shortest_path(graph,'A','H')"
   ]
  },
  {
   "cell_type": "markdown",
   "metadata": {},
   "source": [
    "## REFERENCES"
   ]
  },
  {
   "cell_type": "markdown",
   "metadata": {},
   "source": [
    "1. Djistra Algorithm from https://www.codespeedy.com/how-to-implement-dijkstras-shortest-path-algorithm-in-python/\n",
    "2. Dijkstra vs. Floyd-Warshall: Finding optimal route on all node pairs https://stackoverflow.com/questions/4212431/dijkstra-vs-floyd-warshall-finding-optimal-route-on-all-node-pairs"
   ]
  }
 ],
 "metadata": {
  "kernelspec": {
   "display_name": "Python 3",
   "language": "python",
   "name": "python3"
  },
  "language_info": {
   "codemirror_mode": {
    "name": "ipython",
    "version": 3
   },
   "file_extension": ".py",
   "mimetype": "text/x-python",
   "name": "python",
   "nbconvert_exporter": "python",
   "pygments_lexer": "ipython3",
   "version": "3.7.3"
  }
 },
 "nbformat": 4,
 "nbformat_minor": 2
}
